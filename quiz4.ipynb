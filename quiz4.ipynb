{
 "cells": [
  {
   "cell_type": "markdown",
   "id": "becd9c15",
   "metadata": {},
   "source": [
    "# Quiz 4"
   ]
  },
  {
   "cell_type": "code",
   "execution_count": 1,
   "id": "8033df33",
   "metadata": {},
   "outputs": [],
   "source": [
    "import numpy\n",
    "import pandas as pd\n",
    "import scipy\n",
    "import matplotlib.pyplot as plt\n",
    "import statsmodels.formula.api as smf\n",
    "import statsmodels.api as sm"
   ]
  },
  {
   "cell_type": "code",
   "execution_count": 7,
   "id": "fadf7a73",
   "metadata": {},
   "outputs": [],
   "source": [
    "h41 = pd.read_csv(\"homework_4.1.csv\")\n",
    "h42a = pd.read_csv(\"homework_4.2.a.csv\")\n",
    "h42b = pd.read_csv(\"homework_4.2.b.csv\")"
   ]
  },
  {
   "cell_type": "code",
   "execution_count": 8,
   "id": "9f447a44",
   "metadata": {},
   "outputs": [
    {
     "data": {
      "text/html": [
       "<div>\n",
       "<style scoped>\n",
       "    .dataframe tbody tr th:only-of-type {\n",
       "        vertical-align: middle;\n",
       "    }\n",
       "\n",
       "    .dataframe tbody tr th {\n",
       "        vertical-align: top;\n",
       "    }\n",
       "\n",
       "    .dataframe thead th {\n",
       "        text-align: right;\n",
       "    }\n",
       "</style>\n",
       "<table border=\"1\" class=\"dataframe\">\n",
       "  <thead>\n",
       "    <tr style=\"text-align: right;\">\n",
       "      <th></th>\n",
       "      <th>Z</th>\n",
       "      <th>W</th>\n",
       "      <th>X</th>\n",
       "      <th>Y</th>\n",
       "    </tr>\n",
       "  </thead>\n",
       "  <tbody>\n",
       "    <tr>\n",
       "      <th>0</th>\n",
       "      <td>0</td>\n",
       "      <td>-0.155644</td>\n",
       "      <td>-0.496971</td>\n",
       "      <td>0.282484</td>\n",
       "    </tr>\n",
       "    <tr>\n",
       "      <th>1</th>\n",
       "      <td>1</td>\n",
       "      <td>0.529539</td>\n",
       "      <td>2.284240</td>\n",
       "      <td>4.740596</td>\n",
       "    </tr>\n",
       "    <tr>\n",
       "      <th>2</th>\n",
       "      <td>1</td>\n",
       "      <td>0.910514</td>\n",
       "      <td>0.872232</td>\n",
       "      <td>3.449569</td>\n",
       "    </tr>\n",
       "    <tr>\n",
       "      <th>3</th>\n",
       "      <td>1</td>\n",
       "      <td>-0.705476</td>\n",
       "      <td>2.157260</td>\n",
       "      <td>3.002531</td>\n",
       "    </tr>\n",
       "    <tr>\n",
       "      <th>4</th>\n",
       "      <td>0</td>\n",
       "      <td>-0.590874</td>\n",
       "      <td>-0.386730</td>\n",
       "      <td>-1.848796</td>\n",
       "    </tr>\n",
       "    <tr>\n",
       "      <th>...</th>\n",
       "      <td>...</td>\n",
       "      <td>...</td>\n",
       "      <td>...</td>\n",
       "      <td>...</td>\n",
       "    </tr>\n",
       "    <tr>\n",
       "      <th>4995</th>\n",
       "      <td>0</td>\n",
       "      <td>-0.976289</td>\n",
       "      <td>0.482060</td>\n",
       "      <td>-0.830112</td>\n",
       "    </tr>\n",
       "    <tr>\n",
       "      <th>4996</th>\n",
       "      <td>0</td>\n",
       "      <td>0.677586</td>\n",
       "      <td>-0.580264</td>\n",
       "      <td>1.106948</td>\n",
       "    </tr>\n",
       "    <tr>\n",
       "      <th>4997</th>\n",
       "      <td>0</td>\n",
       "      <td>-0.829560</td>\n",
       "      <td>0.895967</td>\n",
       "      <td>-0.612659</td>\n",
       "    </tr>\n",
       "    <tr>\n",
       "      <th>4998</th>\n",
       "      <td>0</td>\n",
       "      <td>-1.126846</td>\n",
       "      <td>-0.178558</td>\n",
       "      <td>-2.882220</td>\n",
       "    </tr>\n",
       "    <tr>\n",
       "      <th>4999</th>\n",
       "      <td>0</td>\n",
       "      <td>0.578862</td>\n",
       "      <td>0.670354</td>\n",
       "      <td>2.308631</td>\n",
       "    </tr>\n",
       "  </tbody>\n",
       "</table>\n",
       "<p>5000 rows × 4 columns</p>\n",
       "</div>"
      ],
      "text/plain": [
       "      Z         W         X         Y\n",
       "0     0 -0.155644 -0.496971  0.282484\n",
       "1     1  0.529539  2.284240  4.740596\n",
       "2     1  0.910514  0.872232  3.449569\n",
       "3     1 -0.705476  2.157260  3.002531\n",
       "4     0 -0.590874 -0.386730 -1.848796\n",
       "...  ..       ...       ...       ...\n",
       "4995  0 -0.976289  0.482060 -0.830112\n",
       "4996  0  0.677586 -0.580264  1.106948\n",
       "4997  0 -0.829560  0.895967 -0.612659\n",
       "4998  0 -1.126846 -0.178558 -2.882220\n",
       "4999  0  0.578862  0.670354  2.308631\n",
       "\n",
       "[5000 rows x 4 columns]"
      ]
     },
     "execution_count": 8,
     "metadata": {},
     "output_type": "execute_result"
    }
   ],
   "source": [
    "h41"
   ]
  },
  {
   "cell_type": "code",
   "execution_count": 9,
   "id": "4200aaf8",
   "metadata": {},
   "outputs": [
    {
     "data": {
      "text/plain": [
       "np.float64(1.5618587073765748)"
      ]
     },
     "execution_count": 9,
     "metadata": {},
     "output_type": "execute_result"
    }
   ],
   "source": [
    "y_diff = h41[h41.Z==1].Y.mean() - h41[h41.Z==0].Y.mean()\n",
    "x_diff = h41[h41.Z==1].X.mean() - h41[h41.Z==0].X.mean()\n",
    "y_diff / x_diff"
   ]
  },
  {
   "cell_type": "code",
   "execution_count": 30,
   "id": "b76e9b07",
   "metadata": {},
   "outputs": [
    {
     "data": {
      "text/plain": [
       "(array([3.600e+01, 1.580e+02, 7.730e+02, 1.452e+03, 1.474e+03, 7.890e+02,\n",
       "        2.720e+02, 3.800e+01, 7.000e+00, 1.000e+00]),\n",
       " array([-3.30340619, -2.4947399 , -1.68607361, -0.87740732, -0.06874104,\n",
       "         0.73992525,  1.54859154,  2.35725783,  3.16592412,  3.9745904 ,\n",
       "         4.78325669]),\n",
       " <BarContainer object of 10 artists>)"
      ]
     },
     "execution_count": 30,
     "metadata": {},
     "output_type": "execute_result"
    },
    {
     "data": {
      "image/png": "[encoded data removed]",
      "text/plain": [
       "<Figure size 640x480 with 1 Axes>"
      ]
     },
     "metadata": {},
     "output_type": "display_data"
    }
   ],
   "source": [
    "plt.hist(h41.W)"
   ]
  },
  {
   "cell_type": "code",
   "execution_count": null,
   "id": "4f805abd",
   "metadata": {},
   "outputs": [
    {
     "data": {
      "text/plain": [
       "np.float64(1.4935855827286728)"
      ]
     },
     "execution_count": 35,
     "metadata": {},
     "output_type": "execute_result"
    }
   ],
   "source": [
    "h41_bin = h41[(h41.W >= -1) & (h41.W <= -0.5) | (h41.W >= 0.5) & (h41.W <= 1)]\n",
    "y_diff_bin = h41_bin[h41_bin.Z==1].Y.mean() - h41_bin[h41_bin.Z==0].Y.mean()\n",
    "x_diff_bin = h41_bin[h41_bin.Z==1].X.mean() - h41_bin[h41_bin.Z==0].X.mean()\n",
    "y_diff_bin / x_diff_bin"
   ]
  },
  {
   "cell_type": "code",
   "execution_count": 11,
   "id": "5d42f0b2",
   "metadata": {},
   "outputs": [
    {
     "data": {
      "text/html": [
       "<div>\n",
       "<style scoped>\n",
       "    .dataframe tbody tr th:only-of-type {\n",
       "        vertical-align: middle;\n",
       "    }\n",
       "\n",
       "    .dataframe tbody tr th {\n",
       "        vertical-align: top;\n",
       "    }\n",
       "\n",
       "    .dataframe thead th {\n",
       "        text-align: right;\n",
       "    }\n",
       "</style>\n",
       "<table border=\"1\" class=\"dataframe\">\n",
       "  <thead>\n",
       "    <tr style=\"text-align: right;\">\n",
       "      <th></th>\n",
       "      <th>X</th>\n",
       "      <th>Y</th>\n",
       "    </tr>\n",
       "  </thead>\n",
       "  <tbody>\n",
       "    <tr>\n",
       "      <th>0</th>\n",
       "      <td>81.822339</td>\n",
       "      <td>1</td>\n",
       "    </tr>\n",
       "    <tr>\n",
       "      <th>1</th>\n",
       "      <td>92.487870</td>\n",
       "      <td>0</td>\n",
       "    </tr>\n",
       "    <tr>\n",
       "      <th>2</th>\n",
       "      <td>85.372460</td>\n",
       "      <td>0</td>\n",
       "    </tr>\n",
       "    <tr>\n",
       "      <th>3</th>\n",
       "      <td>78.828025</td>\n",
       "      <td>0</td>\n",
       "    </tr>\n",
       "    <tr>\n",
       "      <th>4</th>\n",
       "      <td>75.807080</td>\n",
       "      <td>1</td>\n",
       "    </tr>\n",
       "    <tr>\n",
       "      <th>...</th>\n",
       "      <td>...</td>\n",
       "      <td>...</td>\n",
       "    </tr>\n",
       "    <tr>\n",
       "      <th>99995</th>\n",
       "      <td>92.542635</td>\n",
       "      <td>1</td>\n",
       "    </tr>\n",
       "    <tr>\n",
       "      <th>99996</th>\n",
       "      <td>81.713212</td>\n",
       "      <td>0</td>\n",
       "    </tr>\n",
       "    <tr>\n",
       "      <th>99997</th>\n",
       "      <td>76.949186</td>\n",
       "      <td>0</td>\n",
       "    </tr>\n",
       "    <tr>\n",
       "      <th>99998</th>\n",
       "      <td>71.790575</td>\n",
       "      <td>0</td>\n",
       "    </tr>\n",
       "    <tr>\n",
       "      <th>99999</th>\n",
       "      <td>80.698671</td>\n",
       "      <td>0</td>\n",
       "    </tr>\n",
       "  </tbody>\n",
       "</table>\n",
       "<p>100000 rows × 2 columns</p>\n",
       "</div>"
      ],
      "text/plain": [
       "               X  Y\n",
       "0      81.822339  1\n",
       "1      92.487870  0\n",
       "2      85.372460  0\n",
       "3      78.828025  0\n",
       "4      75.807080  1\n",
       "...          ... ..\n",
       "99995  92.542635  1\n",
       "99996  81.713212  0\n",
       "99997  76.949186  0\n",
       "99998  71.790575  0\n",
       "99999  80.698671  0\n",
       "\n",
       "[100000 rows x 2 columns]"
      ]
     },
     "execution_count": 11,
     "metadata": {},
     "output_type": "execute_result"
    }
   ],
   "source": [
    "h42a"
   ]
  },
  {
   "cell_type": "code",
   "execution_count": 13,
   "id": "c0ea130b",
   "metadata": {},
   "outputs": [],
   "source": [
    "h42a[\"above_cutoff\"] = 1 * (h42a.X >= 80)"
   ]
  },
  {
   "cell_type": "code",
   "execution_count": 17,
   "id": "ac2756cb",
   "metadata": {},
   "outputs": [],
   "source": [
    "h42b[\"above_cutoff\"] = 1 * (h42b.X2 >= 80)"
   ]
  },
  {
   "cell_type": "code",
   "execution_count": 22,
   "id": "ed48517d",
   "metadata": {},
   "outputs": [
    {
     "data": {
      "image/png": "[encoded data removed]",
      "text/plain": [
       "<Figure size 640x480 with 1 Axes>"
      ]
     },
     "metadata": {},
     "output_type": "display_data"
    }
   ],
   "source": [
    "# Binned X\n",
    "h42a_bin1 = h42a[(h42a.X >= 60) & (h42a.X <= 65)]\n",
    "h42a_bin2 = h42a[(h42a.X > 65) & (h42a.X <= 70)]\n",
    "h42a_bin3 = h42a[(h42a.X > 70) & (h42a.X <= 75)]\n",
    "h42a_bin4 = h42a[(h42a.X > 75) & (h42a.X <= 79.99)]\n",
    "\n",
    "# Y means\n",
    "h42a_bin1_y_mean = h42a_bin1.Y.mean()\n",
    "h42a_bin2_y_mean = h42a_bin2.Y.mean()\n",
    "h42a_bin3_y_mean = h42a_bin3.Y.mean()\n",
    "h42a_bin4_y_mean = h42a_bin4.Y.mean()\n",
    "\n",
    "# Bar Plot of binned X by their Y means\n",
    "plt.bar(\n",
    "    [\"60-65\", \"65-70\", \"70-75\", \"75-79.99\"],\n",
    "    [h42a_bin1_y_mean, h42a_bin2_y_mean, h42a_bin3_y_mean, h42a_bin4_y_mean],\n",
    ")\n",
    "plt.xlabel(\"X Bins\")\n",
    "plt.ylabel(\"Mean Y\")\n",
    "plt.title(\"Mean Y by Binned X\")\n",
    "plt.show()\n",
    "\n"
   ]
  },
  {
   "cell_type": "code",
   "execution_count": 40,
   "id": "0a5f2f2b",
   "metadata": {},
   "outputs": [
    {
     "name": "stdout",
     "output_type": "stream",
     "text": [
      "Optimization terminated successfully.\n",
      "         Current function value: 0.658240\n",
      "         Iterations 5\n"
     ]
    },
    {
     "data": {
      "image/png": "[encoded data removed]",
      "text/plain": [
       "<Figure size 640x480 with 1 Axes>"
      ]
     },
     "metadata": {},
     "output_type": "display_data"
    }
   ],
   "source": [
    "h42a_bin77 = h42a[(h42a.X >= 77) & (h42a.X <= 77.99)]\n",
    "h42a_bin78 = h42a[(h42a.X >= 78) & (h42a.X <= 78.99)]\n",
    "h42a_bin79 = h42a[(h42a.X >= 79) & (h42a.X <= 79.99)]\n",
    "h42a_bin80 = h42a[(h42a.X >= 80) & (h42a.X <= 80.99)]\n",
    "h42a_bin81 = h42a[(h42a.X >= 81) & (h42a.X <= 81.99)]\n",
    "h42a_bin82 = h42a[(h42a.X >= 82) & (h42a.X <= 82.99)]\n",
    "\n",
    "h42a_bin78_y_mean = h42a_bin78.Y.mean()\n",
    "h42a_bin79_y_mean = h42a_bin79.Y.mean()\n",
    "h42a_bin80_y_mean = h42a_bin80.Y.mean()\n",
    "h42a_bin81_y_mean = h42a_bin81.Y.mean()\n",
    "h42a_bin82_y_mean = h42a_bin82.Y.mean()\n",
    "\n",
    "model = smf.logit(\"Y ~ X\", data=h42a).fit()\n",
    "x_vals = numpy.linspace(77, 82, 100)\n",
    "y_vals = model.predict(pd.DataFrame({\"X\": x_vals}))\n",
    "plt.plot(x_vals, y_vals, label=\"Logistic Regression Prediction\", color=\"blue\")\n",
    "\n",
    "bin_midpoints = [77.5, 78.5, 79.5, 80.5, 81.5, 82.5]\n",
    "plt.plot(\n",
    "    bin_midpoints,\n",
    "    [\n",
    "        h42a_bin77.Y.mean(),\n",
    "        h42a_bin78_y_mean,\n",
    "        h42a_bin79_y_mean,\n",
    "        h42a_bin80_y_mean,\n",
    "        h42a_bin81_y_mean,\n",
    "        h42a_bin82_y_mean,\n",
    "    ],\n",
    "    marker=\"o\",\n",
    "    label=\"Bin Means\",\n",
    ")\n",
    "plt.xticks(bin_midpoints, [\"77-77.99\", \"78-78.99\", \"79-79.99\", \"80-80.99\", \"81-81.99\", \"82-82.99\"])\n",
    "plt.xlabel(\"X Bins\")\n",
    "plt.ylabel(\"Mean Y\")\n",
    "plt.title(\"Mean Y by Binned X Near Cutoff\")\n",
    "plt.axvline(x=80, color=\"r\", linestyle=\"--\", label=\"Cutoff at 80\")\n",
    "plt.legend()\n",
    "plt.show()\n"
   ]
  },
  {
   "cell_type": "code",
   "execution_count": 26,
   "id": "674edecb",
   "metadata": {},
   "outputs": [
    {
     "name": "stdout",
     "output_type": "stream",
     "text": [
      "Intercept       0.289173\n",
      "X               0.000195\n",
      "above_cutoff    0.295724\n",
      "dtype: float64\n"
     ]
    }
   ],
   "source": [
    "model_h42a = smf.ols(\"Y ~ X + above_cutoff\", data=h42a).fit()\n",
    "print(model_h42a.params)"
   ]
  },
  {
   "cell_type": "code",
   "execution_count": 28,
   "id": "f4cedb4b",
   "metadata": {},
   "outputs": [
    {
     "name": "stdout",
     "output_type": "stream",
     "text": [
      "Slope before cutoff: 0.00019491091008923457\n",
      "Slope after cutoff: 0.29591937517585637\n"
     ]
    }
   ],
   "source": [
    "# Compare slope before and after cutoff\n",
    "slope_before_cutoff = model_h42a.params[\"X\"]\n",
    "slope_after_cutoff = model_h42a.params[\"X\"] + model_h42a.params[\"above_cutoff\"]\n",
    "print(f\"Slope before cutoff: {slope_before_cutoff}\")\n",
    "print(f\"Slope after cutoff: {slope_after_cutoff}\")"
   ]
  },
  {
   "cell_type": "code",
   "execution_count": 24,
   "id": "be5e24b2",
   "metadata": {},
   "outputs": [
    {
     "data": {
      "image/png": "[encoded data removed]",
      "text/plain": [
       "<Figure size 640x480 with 1 Axes>"
      ]
     },
     "metadata": {},
     "output_type": "display_data"
    }
   ],
   "source": [
    "# Binned X2\n",
    "h42b_bin1 = h42b[(h42b.X2 >= 60) & (h42b.X2 <= 65)]\n",
    "h42b_bin2 = h42b[(h42b.X2 > 65) & (h42b.X2 <= 70)]\n",
    "h42b_bin3 = h42b[(h42b.X2 > 70) & (h42b.X2 <= 75)]\n",
    "h42b_bin4 = h42b[(h42b.X2 > 75) & (h42b.X2 <= 79.99)]\n",
    "\n",
    "# Y means\n",
    "h42b_bin1_y_mean = h42b_bin1.Y2.mean()\n",
    "h42b_bin2_y_mean = h42b_bin2.Y2.mean()\n",
    "h42b_bin3_y_mean = h42b_bin3.Y2.mean()\n",
    "h42b_bin4_y_mean = h42b_bin4.Y2.mean()\n",
    "\n",
    "# Bar Plot of binned X2 by their Y means\n",
    "plt.bar(\n",
    "    [\"60-65\", \"65-70\", \"70-75\", \"75-79.99\"],\n",
    "    [h42b_bin1_y_mean, h42b_bin2_y_mean, h42b_bin3_y_mean, h42b_bin4_y_mean],\n",
    ")\n",
    "plt.xlabel(\"X2 Bins\")\n",
    "plt.ylabel(\"Mean Y\")\n",
    "plt.title(\"Mean Y by Binned X2\")\n",
    "plt.show()\n",
    "\n"
   ]
  },
  {
   "cell_type": "code",
   "execution_count": 27,
   "id": "7bb3cf7e",
   "metadata": {},
   "outputs": [
    {
     "name": "stdout",
     "output_type": "stream",
     "text": [
      "Intercept       0.056712\n",
      "X2              0.007832\n",
      "above_cutoff    0.194098\n",
      "dtype: float64\n"
     ]
    }
   ],
   "source": [
    "model_h42b = smf.ols(\"Y2 ~ X2 + above_cutoff\", data=h42b).fit()\n",
    "print(model_h42b.params)"
   ]
  },
  {
   "cell_type": "code",
   "execution_count": 29,
   "id": "42cd68ce",
   "metadata": {},
   "outputs": [
    {
     "name": "stdout",
     "output_type": "stream",
     "text": [
      "Slope before cutoff: 0.00783240616759331\n",
      "Slope after cutoff: 0.2019302942067773\n"
     ]
    }
   ],
   "source": [
    "# Comparing slope before and after cutoff\n",
    "slope_before_cutoff_b = model_h42b.params[\"X2\"]\n",
    "slope_after_cutoff_b = model_h42b.params[\"X2\"] + model_h42b.params[\"above_cutoff\"]\n",
    "print(f\"Slope before cutoff: {slope_before_cutoff_b}\")\n",
    "print(f\"Slope after cutoff: {slope_after_cutoff_b}\")"
   ]
  }
 ],
 "metadata": {
  "kernelspec": {
   "display_name": "default",
   "language": "python",
   "name": "python3"
  },
  "language_info": {
   "codemirror_mode": {
    "name": "ipython",
    "version": 3
   },
   "file_extension": ".py",
   "mimetype": "text/x-python",
   "name": "python",
   "nbconvert_exporter": "python",
   "pygments_lexer": "ipython3",
   "version": "3.13.5"
  }
 },
 "nbformat": 4,
 "nbformat_minor": 5
}
