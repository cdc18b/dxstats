{
 "cells": [
  {
   "cell_type": "markdown",
   "id": "0f43cde7",
   "metadata": {},
   "source": [
    "# Quiz 5"
   ]
  },
  {
   "cell_type": "code",
   "execution_count": 2,
   "id": "1a392112",
   "metadata": {},
   "outputs": [],
   "source": [
    "import matplotlib.pyplot as plt\n",
    "import numpy as np\n",
    "import pandas as pd\n",
    "import scipy\n",
    "import statsmodels.api as sm\n",
    "import seaborn as sns\n",
    "import networkx as nx\n",
    "from sklearn.metrics import accuracy_score, roc_auc_score"
   ]
  },
  {
   "cell_type": "code",
   "execution_count": 7,
   "id": "2f638e7c",
   "metadata": {},
   "outputs": [
    {
     "name": "stdout",
     "output_type": "stream",
     "text": [
      "Average coefficient for difficulty over 10000 runs: -9.66105326802804\n"
     ]
    }
   ],
   "source": [
    "x_coeffs = []\n",
    "# Repeat experirment 10000 times\n",
    "for _ in range(10000):\n",
    "    # Code to create data for this question \n",
    "    num = 100000 \n",
    "    \n",
    "    difficulty = np.random.uniform(0, 1, (num,)) \n",
    "    \n",
    "    speed = np.maximum(np.random.normal(15, 5, (num, )) - difficulty * 10, 0) \n",
    "    \n",
    "    accident = np.minimum(np.maximum(0.03 * speed + 0.4 * difficulty + np.random.normal(0, 0.3, (num,)), 0), 1) \n",
    "    \n",
    "    df = pd.DataFrame({'difficulty': difficulty, 'speed': speed, 'accident': accident})\n",
    "\n",
    "    # Fit a linear regression model to predict speed from difficulty\n",
    "    X = sm.add_constant(df['difficulty'])\n",
    "    model = sm.OLS(df['speed'], X).fit()\n",
    "    \n",
    "    # Print coefficients\n",
    "    x_coeffs.append(model.params['difficulty'])\n",
    "\n",
    "avg_coeff = np.mean(x_coeffs)\n",
    "print(f\"Average coefficient for difficulty over 10000 runs: {avg_coeff}\")"
   ]
  },
  {
   "cell_type": "code",
   "execution_count": 10,
   "id": "f244b73a",
   "metadata": {},
   "outputs": [
    {
     "name": "stdout",
     "output_type": "stream",
     "text": [
      "Average coefficient for difficulty over 10000 runs: -10.326218702303537\n"
     ]
    }
   ],
   "source": [
    "x_coeffs = []\n",
    "# Repeat experirment 10000 times\n",
    "for _ in range(10000):\n",
    "    # Code to create data for this question \n",
    "    num = 100000 \n",
    "    \n",
    "    difficulty = np.random.uniform(0, 1, (num,)) \n",
    "    \n",
    "    speed = np.maximum(np.random.normal(15, 5, (num, )) - difficulty * 10, 0) \n",
    "    \n",
    "    accident = np.minimum(np.maximum(0.03 * speed + 0.4 * difficulty + np.random.normal(0, 0.3, (num,)), 0), 1) \n",
    "    \n",
    "    df = pd.DataFrame({'difficulty': difficulty, 'speed': speed, 'accident': accident})\n",
    "\n",
    "    # Fit a linear regression model to predict speed from difficulty and accident\n",
    "    X = sm.add_constant(df[['difficulty', 'accident']])\n",
    "    model = sm.OLS(df['speed'], X).fit()\n",
    "    \n",
    "    # Print coefficients\n",
    "    x_coeffs.append(model.params['difficulty'])\n",
    "\n",
    "avg_coeff = np.mean(x_coeffs)\n",
    "print(f\"Average coefficient for difficulty over 10000 runs: {avg_coeff}\")"
   ]
  }
 ],
 "metadata": {
  "kernelspec": {
   "display_name": "default",
   "language": "python",
   "name": "python3"
  },
  "language_info": {
   "codemirror_mode": {
    "name": "ipython",
    "version": 3
   },
   "file_extension": ".py",
   "mimetype": "text/x-python",
   "name": "python",
   "nbconvert_exporter": "python",
   "pygments_lexer": "ipython3",
   "version": "3.13.5"
  }
 },
 "nbformat": 4,
 "nbformat_minor": 5
}
