{
 "cells": [
  {
   "cell_type": "markdown",
   "id": "21820da1",
   "metadata": {},
   "source": [
    "# Quiz 7"
   ]
  },
  {
   "cell_type": "code",
   "execution_count": 33,
   "id": "42657ee0",
   "metadata": {},
   "outputs": [],
   "source": [
    "import numpy as np\n",
    "import pandas as pd\n",
    "import statsmodels.api as sm"
   ]
  },
  {
   "cell_type": "code",
   "execution_count": 34,
   "id": "ff306443",
   "metadata": {},
   "outputs": [],
   "source": [
    "W = np.random.normal(0, 1, (1000,))\n",
    "X = W + np.random.normal(0, 1, (1000,))\n",
    "Z = np.random.normal(0, 1, (1000,)) \n",
    "epsilon = np.random.normal(0, 1, (1000,))\n",
    "Y = X + Z + W + epsilon"
   ]
  },
  {
   "cell_type": "code",
   "execution_count": 35,
   "id": "cc989681",
   "metadata": {},
   "outputs": [
    {
     "data": {
      "text/plain": [
       "np.float64(0.016328358607082677)"
      ]
     },
     "execution_count": 35,
     "metadata": {},
     "output_type": "execute_result"
    }
   ],
   "source": [
    "np.corrcoef(X, epsilon)[0, 1]"
   ]
  },
  {
   "cell_type": "code",
   "execution_count": 38,
   "id": "b3af255f",
   "metadata": {},
   "outputs": [
    {
     "data": {
      "text/plain": [
       "np.float64(0.013930025119425602)"
      ]
     },
     "execution_count": 38,
     "metadata": {},
     "output_type": "execute_result"
    }
   ],
   "source": [
    "bses = []\n",
    "for n in range(1000):\n",
    "    W = np.random.normal(0, 1, (1000,))\n",
    "    X = W + np.random.normal(0, 1, (1000,))\n",
    "    Z = np.random.normal(0, 1, (1000,)) \n",
    "    epsilon = np.random.normal(0, 1, (1000,))\n",
    "    Y = X + Z + W + epsilon\n",
    "    results = sm.OLS(Y, sm.add_constant(pd.DataFrame({'X': X, 'Z': Z, 'W': W}))).fit()\n",
    "    bses.append(results.bse.iloc[1])\n",
    "\n",
    "np.corrcoef(X, bses)[0, 1]"
   ]
  },
  {
   "cell_type": "code",
   "execution_count": 39,
   "id": "ac32b555",
   "metadata": {},
   "outputs": [],
   "source": [
    "W = np.random.normal(0, 1, (1000,))\n",
    "X = W + np.random.normal(0, 1, (1000,))\n",
    "Z = np.random.normal(0, 1, (1000,)) \n",
    "epsilon = W + np.random.normal(0, 1, (1000,))\n",
    "Y = X + Z + epsilon"
   ]
  },
  {
   "cell_type": "code",
   "execution_count": 40,
   "id": "2ccd5acb",
   "metadata": {},
   "outputs": [
    {
     "data": {
      "text/plain": [
       "np.float64(0.531897739794845)"
      ]
     },
     "execution_count": 40,
     "metadata": {},
     "output_type": "execute_result"
    }
   ],
   "source": [
    "np.corrcoef(X, epsilon)[0, 1]"
   ]
  },
  {
   "cell_type": "code",
   "execution_count": 41,
   "id": "b0ef1aa8",
   "metadata": {},
   "outputs": [],
   "source": [
    "h71 = pd.read_csv(\"homework_7.1.csv\", index_col=0)"
   ]
  },
  {
   "cell_type": "code",
   "execution_count": 42,
   "id": "ef19068a",
   "metadata": {},
   "outputs": [
    {
     "data": {
      "text/html": [
       "<div>\n",
       "<style scoped>\n",
       "    .dataframe tbody tr th:only-of-type {\n",
       "        vertical-align: middle;\n",
       "    }\n",
       "\n",
       "    .dataframe tbody tr th {\n",
       "        vertical-align: top;\n",
       "    }\n",
       "\n",
       "    .dataframe thead th {\n",
       "        text-align: right;\n",
       "    }\n",
       "</style>\n",
       "<table border=\"1\" class=\"dataframe\">\n",
       "  <thead>\n",
       "    <tr style=\"text-align: right;\">\n",
       "      <th></th>\n",
       "      <th>X</th>\n",
       "      <th>W</th>\n",
       "      <th>Z</th>\n",
       "      <th>Y</th>\n",
       "    </tr>\n",
       "  </thead>\n",
       "  <tbody>\n",
       "    <tr>\n",
       "      <th>0</th>\n",
       "      <td>1.137055</td>\n",
       "      <td>1.221768</td>\n",
       "      <td>0.327829</td>\n",
       "      <td>1.944532</td>\n",
       "    </tr>\n",
       "    <tr>\n",
       "      <th>1</th>\n",
       "      <td>-0.112905</td>\n",
       "      <td>0.465835</td>\n",
       "      <td>0.599650</td>\n",
       "      <td>0.655514</td>\n",
       "    </tr>\n",
       "    <tr>\n",
       "      <th>2</th>\n",
       "      <td>2.077755</td>\n",
       "      <td>1.795414</td>\n",
       "      <td>-0.063393</td>\n",
       "      <td>5.934411</td>\n",
       "    </tr>\n",
       "    <tr>\n",
       "      <th>3</th>\n",
       "      <td>0.456373</td>\n",
       "      <td>-0.512159</td>\n",
       "      <td>1.177413</td>\n",
       "      <td>-0.188064</td>\n",
       "    </tr>\n",
       "    <tr>\n",
       "      <th>4</th>\n",
       "      <td>-1.012402</td>\n",
       "      <td>0.080002</td>\n",
       "      <td>-0.275697</td>\n",
       "      <td>-0.533775</td>\n",
       "    </tr>\n",
       "    <tr>\n",
       "      <th>...</th>\n",
       "      <td>...</td>\n",
       "      <td>...</td>\n",
       "      <td>...</td>\n",
       "      <td>...</td>\n",
       "    </tr>\n",
       "    <tr>\n",
       "      <th>9995</th>\n",
       "      <td>2.569934</td>\n",
       "      <td>1.233620</td>\n",
       "      <td>0.930467</td>\n",
       "      <td>6.188783</td>\n",
       "    </tr>\n",
       "    <tr>\n",
       "      <th>9996</th>\n",
       "      <td>0.190150</td>\n",
       "      <td>1.022164</td>\n",
       "      <td>-0.015151</td>\n",
       "      <td>0.697187</td>\n",
       "    </tr>\n",
       "    <tr>\n",
       "      <th>9997</th>\n",
       "      <td>-1.184465</td>\n",
       "      <td>-1.475929</td>\n",
       "      <td>-0.287056</td>\n",
       "      <td>-1.575303</td>\n",
       "    </tr>\n",
       "    <tr>\n",
       "      <th>9998</th>\n",
       "      <td>-0.121286</td>\n",
       "      <td>-0.914357</td>\n",
       "      <td>1.706237</td>\n",
       "      <td>-1.809819</td>\n",
       "    </tr>\n",
       "    <tr>\n",
       "      <th>9999</th>\n",
       "      <td>2.830207</td>\n",
       "      <td>0.825999</td>\n",
       "      <td>-1.154576</td>\n",
       "      <td>5.173403</td>\n",
       "    </tr>\n",
       "  </tbody>\n",
       "</table>\n",
       "<p>10000 rows × 4 columns</p>\n",
       "</div>"
      ],
      "text/plain": [
       "             X         W         Z         Y\n",
       "0     1.137055  1.221768  0.327829  1.944532\n",
       "1    -0.112905  0.465835  0.599650  0.655514\n",
       "2     2.077755  1.795414 -0.063393  5.934411\n",
       "3     0.456373 -0.512159  1.177413 -0.188064\n",
       "4    -1.012402  0.080002 -0.275697 -0.533775\n",
       "...        ...       ...       ...       ...\n",
       "9995  2.569934  1.233620  0.930467  6.188783\n",
       "9996  0.190150  1.022164 -0.015151  0.697187\n",
       "9997 -1.184465 -1.475929 -0.287056 -1.575303\n",
       "9998 -0.121286 -0.914357  1.706237 -1.809819\n",
       "9999  2.830207  0.825999 -1.154576  5.173403\n",
       "\n",
       "[10000 rows x 4 columns]"
      ]
     },
     "execution_count": 42,
     "metadata": {},
     "output_type": "execute_result"
    }
   ],
   "source": [
    "h71"
   ]
  },
  {
   "cell_type": "code",
   "execution_count": 43,
   "id": "0abbc4f5",
   "metadata": {},
   "outputs": [
    {
     "name": "stdout",
     "output_type": "stream",
     "text": [
      "W near -1 bandwidth 0.2 n 967 beta_X 0.8699370837921349\n",
      "W near 0 bandwidth 0.2 n 1546 beta_X 1.4177428595930375\n",
      "W near 1 bandwidth 0.2 n 909 beta_X 1.9343326364400224\n"
     ]
    }
   ],
   "source": [
    "import numpy as np\n",
    "import statsmodels.api as sm\n",
    "\n",
    "targets = [-1, 0, 1]\n",
    "starting_bandwidth = 0.2\n",
    "min_rows = 50\n",
    "\n",
    "for target_value in targets:\n",
    "    bandwidth = starting_bandwidth\n",
    "\n",
    "    # pick rows with W close to the target\n",
    "    lower = target_value - bandwidth\n",
    "    upper = target_value + bandwidth\n",
    "    subset = h71[(h71[\"W\"] >= lower) & (h71[\"W\"] <= upper)]\n",
    "\n",
    "    # widen the window if too few rows\n",
    "    while len(subset) < min_rows and bandwidth < 0.8:\n",
    "        bandwidth += 0.1\n",
    "        lower = target_value - bandwidth\n",
    "        upper = target_value + bandwidth\n",
    "        subset = h71[(h71[\"W\"] >= lower) & (h71[\"W\"] <= upper)]\n",
    "\n",
    "    # run Y on X and Z within this slice\n",
    "    model = sm.OLS(subset[\"Y\"], sm.add_constant(subset[[\"X\", \"Z\"]])).fit()\n",
    "    print(\"W near\", target_value,\n",
    "          \"bandwidth\", round(bandwidth, 2),\n",
    "          \"n\", len(subset),\n",
    "          \"beta_X\", float(model.params[\"X\"]))\n"
   ]
  },
  {
   "cell_type": "code",
   "execution_count": 44,
   "id": "591c3a44",
   "metadata": {},
   "outputs": [
    {
     "data": {
      "text/html": [
       "<div>\n",
       "<style scoped>\n",
       "    .dataframe tbody tr th:only-of-type {\n",
       "        vertical-align: middle;\n",
       "    }\n",
       "\n",
       "    .dataframe tbody tr th {\n",
       "        vertical-align: top;\n",
       "    }\n",
       "\n",
       "    .dataframe thead th {\n",
       "        text-align: right;\n",
       "    }\n",
       "</style>\n",
       "<table border=\"1\" class=\"dataframe\">\n",
       "  <thead>\n",
       "    <tr style=\"text-align: right;\">\n",
       "      <th></th>\n",
       "      <th>X</th>\n",
       "      <th>W</th>\n",
       "      <th>Z</th>\n",
       "      <th>Y</th>\n",
       "    </tr>\n",
       "  </thead>\n",
       "  <tbody>\n",
       "    <tr>\n",
       "      <th>0</th>\n",
       "      <td>1.137055</td>\n",
       "      <td>1.221768</td>\n",
       "      <td>0.327829</td>\n",
       "      <td>1.944532</td>\n",
       "    </tr>\n",
       "    <tr>\n",
       "      <th>1</th>\n",
       "      <td>-0.112905</td>\n",
       "      <td>0.465835</td>\n",
       "      <td>0.599650</td>\n",
       "      <td>0.655514</td>\n",
       "    </tr>\n",
       "    <tr>\n",
       "      <th>2</th>\n",
       "      <td>2.077755</td>\n",
       "      <td>1.795414</td>\n",
       "      <td>-0.063393</td>\n",
       "      <td>5.934411</td>\n",
       "    </tr>\n",
       "    <tr>\n",
       "      <th>3</th>\n",
       "      <td>0.456373</td>\n",
       "      <td>-0.512159</td>\n",
       "      <td>1.177413</td>\n",
       "      <td>-0.188064</td>\n",
       "    </tr>\n",
       "    <tr>\n",
       "      <th>4</th>\n",
       "      <td>-1.012402</td>\n",
       "      <td>0.080002</td>\n",
       "      <td>-0.275697</td>\n",
       "      <td>-0.533775</td>\n",
       "    </tr>\n",
       "    <tr>\n",
       "      <th>...</th>\n",
       "      <td>...</td>\n",
       "      <td>...</td>\n",
       "      <td>...</td>\n",
       "      <td>...</td>\n",
       "    </tr>\n",
       "    <tr>\n",
       "      <th>9995</th>\n",
       "      <td>2.569934</td>\n",
       "      <td>1.233620</td>\n",
       "      <td>0.930467</td>\n",
       "      <td>6.188783</td>\n",
       "    </tr>\n",
       "    <tr>\n",
       "      <th>9996</th>\n",
       "      <td>0.190150</td>\n",
       "      <td>1.022164</td>\n",
       "      <td>-0.015151</td>\n",
       "      <td>0.697187</td>\n",
       "    </tr>\n",
       "    <tr>\n",
       "      <th>9997</th>\n",
       "      <td>-1.184465</td>\n",
       "      <td>-1.475929</td>\n",
       "      <td>-0.287056</td>\n",
       "      <td>-1.575303</td>\n",
       "    </tr>\n",
       "    <tr>\n",
       "      <th>9998</th>\n",
       "      <td>-0.121286</td>\n",
       "      <td>-0.914357</td>\n",
       "      <td>1.706237</td>\n",
       "      <td>-1.809819</td>\n",
       "    </tr>\n",
       "    <tr>\n",
       "      <th>9999</th>\n",
       "      <td>2.830207</td>\n",
       "      <td>0.825999</td>\n",
       "      <td>-1.154576</td>\n",
       "      <td>5.173403</td>\n",
       "    </tr>\n",
       "  </tbody>\n",
       "</table>\n",
       "<p>10000 rows × 4 columns</p>\n",
       "</div>"
      ],
      "text/plain": [
       "             X         W         Z         Y\n",
       "0     1.137055  1.221768  0.327829  1.944532\n",
       "1    -0.112905  0.465835  0.599650  0.655514\n",
       "2     2.077755  1.795414 -0.063393  5.934411\n",
       "3     0.456373 -0.512159  1.177413 -0.188064\n",
       "4    -1.012402  0.080002 -0.275697 -0.533775\n",
       "...        ...       ...       ...       ...\n",
       "9995  2.569934  1.233620  0.930467  6.188783\n",
       "9996  0.190150  1.022164 -0.015151  0.697187\n",
       "9997 -1.184465 -1.475929 -0.287056 -1.575303\n",
       "9998 -0.121286 -0.914357  1.706237 -1.809819\n",
       "9999  2.830207  0.825999 -1.154576  5.173403\n",
       "\n",
       "[10000 rows x 4 columns]"
      ]
     },
     "execution_count": 44,
     "metadata": {},
     "output_type": "execute_result"
    }
   ],
   "source": [
    "h71 = pd.read_csv(\"homework_7.1.csv\", index_col=0)\n",
    "h71"
   ]
  },
  {
   "cell_type": "code",
   "execution_count": 45,
   "id": "5bb4e626",
   "metadata": {},
   "outputs": [
    {
     "name": "stdout",
     "output_type": "stream",
     "text": [
      "corr_const |   sd(beta_hat)   |   mean OLS SE    |   ratio (i)/(ii)\n",
      "-------------------------------------------------------------------\n",
      "       0.2 |        0.047110 |        0.044720 |        1.053436\n",
      "       0.5 |        0.058020 |        0.044878 |        1.292834\n",
      "       0.8 |        0.102188 |        0.044318 |        2.305776\n"
     ]
    }
   ],
   "source": [
    "import numpy as np\n",
    "\n",
    "# Make AR(1)-like errors with the user's formula\n",
    "def make_error(corr_const, num, rng):\n",
    "    err = []\n",
    "    prev = rng.normal(0, 1)\n",
    "    for _ in range(num):\n",
    "        prev = corr_const * prev + (1 - corr_const) * rng.normal(0, 1)\n",
    "        err.append(prev)\n",
    "    return np.array(err)\n",
    "\n",
    "# OLS with intercept: y = a + b*x\n",
    "def fit_ols_intercept_x(y, x):\n",
    "    n = len(y)\n",
    "    x_mean = np.mean(x)\n",
    "    y_mean = np.mean(y)\n",
    "    sxx = np.sum((x - x_mean) ** 2)\n",
    "    sxy = np.sum((x - x_mean) * (y - y_mean))\n",
    "    beta_hat = sxy / sxx\n",
    "    alpha_hat = y_mean - beta_hat * x_mean\n",
    "\n",
    "    # Residuals and IID-based SE (what OLS usually reports)\n",
    "    y_hat = alpha_hat + beta_hat * x\n",
    "    resid = y - y_hat\n",
    "    sigma2_hat = np.sum(resid ** 2) / (n - 2)  # 2 parameters: a and b\n",
    "    se_beta = np.sqrt(sigma2_hat / sxx)\n",
    "    return beta_hat, se_beta\n",
    "\n",
    "# Run many trials for one corr_const\n",
    "def run_trials(corr_const, n_obs, n_trials, beta_true, rng):\n",
    "    beta_hats = []\n",
    "    se_hats = []\n",
    "\n",
    "    for _ in range(n_trials):\n",
    "        # Independent error processes for X and Y\n",
    "        err_x = make_error(corr_const, n_obs, rng)\n",
    "        err_y = make_error(corr_const, n_obs, rng)\n",
    "\n",
    "        # Treatment X and outcome Y (include intercept in the regression step)\n",
    "        x = err_x\n",
    "        y = beta_true * x + err_y\n",
    "\n",
    "        b, se = fit_ols_intercept_x(y, x)\n",
    "        beta_hats.append(b)\n",
    "        se_hats.append(se)\n",
    "\n",
    "    beta_hats = np.array(beta_hats)\n",
    "    se_hats = np.array(se_hats)\n",
    "\n",
    "    # (i) empirical SD of estimates, (ii) mean reported OLS SE, and their ratio\n",
    "    sd_beta = np.std(beta_hats, ddof=1)\n",
    "    mean_se = np.mean(se_hats)\n",
    "    ratio = sd_beta / mean_se\n",
    "    return sd_beta, mean_se, ratio\n",
    "\n",
    "if __name__ == \"__main__\":\n",
    "    rng = np.random.default_rng(42)\n",
    "\n",
    "    n_obs = 500        # number of rows per trial\n",
    "    n_trials = 1000    # number of trials; increase for smoother numbers\n",
    "    beta_true = 1.0\n",
    "    corr_list = [0.2, 0.5, 0.8]\n",
    "\n",
    "    print(\"corr_const |   sd(beta_hat)   |   mean OLS SE    |   ratio (i)/(ii)\")\n",
    "    print(\"-------------------------------------------------------------------\")\n",
    "    for c in corr_list:\n",
    "        sd_b, mean_se, ratio = run_trials(c, n_obs, n_trials, beta_true, rng)\n",
    "        # Fixed-point formatting to avoid scientific notation\n",
    "        print(f\"{c:>10.1f} | {sd_b:>15.6f} | {mean_se:>15.6f} | {ratio:>15.6f}\")\n"
   ]
  }
 ],
 "metadata": {
  "kernelspec": {
   "display_name": "default",
   "language": "python",
   "name": "python3"
  },
  "language_info": {
   "codemirror_mode": {
    "name": "ipython",
    "version": 3
   },
   "file_extension": ".py",
   "mimetype": "text/x-python",
   "name": "python",
   "nbconvert_exporter": "python",
   "pygments_lexer": "ipython3",
   "version": "3.13.5"
  }
 },
 "nbformat": 4,
 "nbformat_minor": 5
}
