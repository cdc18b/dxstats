{
 "cells": [
  {
   "cell_type": "markdown",
   "id": "ea274133",
   "metadata": {},
   "source": [
    "# Quiz 6"
   ]
  },
  {
   "cell_type": "code",
   "execution_count": 1,
   "id": "ee19c078",
   "metadata": {},
   "outputs": [],
   "source": [
    "import numpy as np\n",
    "import pandas as pd\n",
    "from sklearn.neighbors import NearestNeighbors"
   ]
  },
  {
   "cell_type": "code",
   "execution_count": 2,
   "id": "848165d1",
   "metadata": {},
   "outputs": [],
   "source": [
    "data = pd.read_csv('homework_6.1.csv')"
   ]
  },
  {
   "cell_type": "code",
   "execution_count": 3,
   "id": "b43ee4e5",
   "metadata": {},
   "outputs": [
    {
     "data": {
      "text/html": [
       "<div>\n",
       "<style scoped>\n",
       "    .dataframe tbody tr th:only-of-type {\n",
       "        vertical-align: middle;\n",
       "    }\n",
       "\n",
       "    .dataframe tbody tr th {\n",
       "        vertical-align: top;\n",
       "    }\n",
       "\n",
       "    .dataframe thead th {\n",
       "        text-align: right;\n",
       "    }\n",
       "</style>\n",
       "<table border=\"1\" class=\"dataframe\">\n",
       "  <thead>\n",
       "    <tr style=\"text-align: right;\">\n",
       "      <th></th>\n",
       "      <th>Z</th>\n",
       "      <th>X</th>\n",
       "      <th>Y</th>\n",
       "    </tr>\n",
       "  </thead>\n",
       "  <tbody>\n",
       "    <tr>\n",
       "      <th>0</th>\n",
       "      <td>0.548814</td>\n",
       "      <td>0</td>\n",
       "      <td>-0.823220</td>\n",
       "    </tr>\n",
       "    <tr>\n",
       "      <th>1</th>\n",
       "      <td>0.715189</td>\n",
       "      <td>1</td>\n",
       "      <td>0.842405</td>\n",
       "    </tr>\n",
       "    <tr>\n",
       "      <th>2</th>\n",
       "      <td>0.602763</td>\n",
       "      <td>1</td>\n",
       "      <td>0.898618</td>\n",
       "    </tr>\n",
       "    <tr>\n",
       "      <th>3</th>\n",
       "      <td>0.544883</td>\n",
       "      <td>0</td>\n",
       "      <td>-0.817325</td>\n",
       "    </tr>\n",
       "    <tr>\n",
       "      <th>4</th>\n",
       "      <td>0.423655</td>\n",
       "      <td>0</td>\n",
       "      <td>-0.635482</td>\n",
       "    </tr>\n",
       "  </tbody>\n",
       "</table>\n",
       "</div>"
      ],
      "text/plain": [
       "          Z  X         Y\n",
       "0  0.548814  0 -0.823220\n",
       "1  0.715189  1  0.842405\n",
       "2  0.602763  1  0.898618\n",
       "3  0.544883  0 -0.817325\n",
       "4  0.423655  0 -0.635482"
      ]
     },
     "execution_count": 3,
     "metadata": {},
     "output_type": "execute_result"
    }
   ],
   "source": [
    "data.head()"
   ]
  },
  {
   "cell_type": "code",
   "execution_count": 5,
   "id": "456c1a4d",
   "metadata": {},
   "outputs": [],
   "source": [
    "# Split data\n",
    "treated = data[data[\"X\"] == 1]\n",
    "control = data[data[\"X\"] == 0]\n",
    "\n",
    "X_treated = treated[[\"Z\"]].values\n",
    "X_control = control[[\"Z\"]].values"
   ]
  },
  {
   "cell_type": "code",
   "execution_count": 18,
   "id": "22cd73e7",
   "metadata": {},
   "outputs": [
    {
     "name": "stdout",
     "output_type": "stream",
     "text": [
      "Estimated ATE: 1.7\n"
     ]
    }
   ],
   "source": [
    "# ATE estimation using Nearest Neighbors matching\n",
    "# 1. Treated → Control\n",
    "nn = NearestNeighbors(n_neighbors=1)\n",
    "nn.fit(X_control)\n",
    "_, control_indices = nn.kneighbors(X_treated)\n",
    "treated_to_control = treated[\"Y\"].values - control.iloc[control_indices.flatten()][\"Y\"].values\n",
    "\n",
    "# 2. Control → Treated\n",
    "nn.fit(X_treated)\n",
    "_, treated_indices = nn.kneighbors(X_control)\n",
    "control_to_treated = treated.iloc[treated_indices.flatten()][\"Y\"].values - control[\"Y\"].values\n",
    "\n",
    "# 3. Combine both directions\n",
    "ate = np.mean(np.concatenate([treated_to_control, control_to_treated]))\n",
    "\n",
    "print(\"Estimated ATE:\", round(ate, 2))\n"
   ]
  },
  {
   "cell_type": "code",
   "execution_count": 19,
   "id": "986acbdb",
   "metadata": {},
   "outputs": [
    {
     "name": "stdout",
     "output_type": "stream",
     "text": [
      "Estimated ATT: 1.8464085071912946\n"
     ]
    }
   ],
   "source": [
    "# ATT estimation using Nearest Neighbors matching\n",
    "nn = NearestNeighbors(n_neighbors=1)\n",
    "nn.fit(X_control)\n",
    "\n",
    "_, indices = nn.kneighbors(X_treated)\n",
    "matched_control_outcomes = control.iloc[indices.flatten()]['Y'].values\n",
    "treatment_effects = treated['Y'].values - matched_control_outcomes\n",
    "att = np.mean(treatment_effects)\n",
    "print(f'Estimated ATT: {att}')"
   ]
  },
  {
   "cell_type": "code",
   "execution_count": 20,
   "id": "fc52dd6d",
   "metadata": {},
   "outputs": [
    {
     "name": "stdout",
     "output_type": "stream",
     "text": [
      "Estimated ATU: 1.5494765534751722\n",
      "Optimal Treatment Effect: 2.172469885577008\n"
     ]
    }
   ],
   "source": [
    "# ATU estimation using Nearest Neighbors matching\n",
    "nn = NearestNeighbors(n_neighbors=1)\n",
    "nn.fit(X_treated)\n",
    "\n",
    "_, indices = nn.kneighbors(X_control)\n",
    "matched_treatment_outcomes = treated.iloc[indices.flatten()]['Y'].values\n",
    "treatment_effects = matched_treatment_outcomes - control['Y'].values\n",
    "atu = np.mean(treatment_effects)\n",
    "print(f'Estimated ATU: {atu}')\n",
    "print(f'Optimal Treatment Effect: {np.max(treatment_effects)}')"
   ]
  }
 ],
 "metadata": {
  "kernelspec": {
   "display_name": "default",
   "language": "python",
   "name": "python3"
  },
  "language_info": {
   "codemirror_mode": {
    "name": "ipython",
    "version": 3
   },
   "file_extension": ".py",
   "mimetype": "text/x-python",
   "name": "python",
   "nbconvert_exporter": "python",
   "pygments_lexer": "ipython3",
   "version": "3.13.5"
  }
 },
 "nbformat": 4,
 "nbformat_minor": 5
}
