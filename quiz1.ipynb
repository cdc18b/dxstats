{
 "cells": [
  {
   "cell_type": "markdown",
   "id": "e292289d",
   "metadata": {},
   "source": [
    "# Quiz 1"
   ]
  },
  {
   "cell_type": "code",
   "execution_count": 1,
   "id": "4189baaf",
   "metadata": {},
   "outputs": [],
   "source": [
    "import matplotlib.pyplot as plt\n",
    "import numpy as np\n",
    "import pandas as pd\n",
    "import scipy\n",
    "import statsmodels.api as sm\n",
    "import seaborn as sns\n",
    "from sklearn.neighbors import NearestNeighbors\n",
    "from statsmodels.stats.outliers_influence import variance_inflation_factor\n",
    "from sklearn.preprocessing import StandardScaler"
   ]
  },
  {
   "cell_type": "code",
   "execution_count": 2,
   "id": "7b866298",
   "metadata": {},
   "outputs": [],
   "source": [
    "h11 = pd.read_csv(\"homework_1.1.csv\").drop(columns=[\"Unnamed: 0\"])\n",
    "h12 = pd.read_csv(\"homework_1.2.csv\").drop(columns=[\"Unnamed: 0\"])"
   ]
  },
  {
   "cell_type": "markdown",
   "id": "76cbab44",
   "metadata": {},
   "source": [
    "For questions 1 to 3:\n",
    "\n",
    "Perform a linear regression to predict Y from X1, X2, and X3. Use the file homework_1.1.csv."
   ]
  },
  {
   "cell_type": "code",
   "execution_count": 3,
   "id": "4517b2ac",
   "metadata": {},
   "outputs": [
    {
     "data": {
      "text/html": [
       "<div>\n",
       "<style scoped>\n",
       "    .dataframe tbody tr th:only-of-type {\n",
       "        vertical-align: middle;\n",
       "    }\n",
       "\n",
       "    .dataframe tbody tr th {\n",
       "        vertical-align: top;\n",
       "    }\n",
       "\n",
       "    .dataframe thead th {\n",
       "        text-align: right;\n",
       "    }\n",
       "</style>\n",
       "<table border=\"1\" class=\"dataframe\">\n",
       "  <thead>\n",
       "    <tr style=\"text-align: right;\">\n",
       "      <th></th>\n",
       "      <th>X1</th>\n",
       "      <th>X2</th>\n",
       "      <th>X3</th>\n",
       "      <th>Y</th>\n",
       "    </tr>\n",
       "  </thead>\n",
       "  <tbody>\n",
       "    <tr>\n",
       "      <th>0</th>\n",
       "      <td>-0.440646</td>\n",
       "      <td>-0.390227</td>\n",
       "      <td>0.156718</td>\n",
       "      <td>-0.877671</td>\n",
       "    </tr>\n",
       "    <tr>\n",
       "      <th>1</th>\n",
       "      <td>-3.810099</td>\n",
       "      <td>-1.304665</td>\n",
       "      <td>-1.105117</td>\n",
       "      <td>-10.130388</td>\n",
       "    </tr>\n",
       "    <tr>\n",
       "      <th>2</th>\n",
       "      <td>-1.425451</td>\n",
       "      <td>-0.340049</td>\n",
       "      <td>1.115908</td>\n",
       "      <td>0.284068</td>\n",
       "    </tr>\n",
       "    <tr>\n",
       "      <th>3</th>\n",
       "      <td>-1.325750</td>\n",
       "      <td>0.161906</td>\n",
       "      <td>-0.254670</td>\n",
       "      <td>-1.994344</td>\n",
       "    </tr>\n",
       "    <tr>\n",
       "      <th>4</th>\n",
       "      <td>3.120263</td>\n",
       "      <td>1.487343</td>\n",
       "      <td>-1.164839</td>\n",
       "      <td>2.030030</td>\n",
       "    </tr>\n",
       "    <tr>\n",
       "      <th>...</th>\n",
       "      <td>...</td>\n",
       "      <td>...</td>\n",
       "      <td>...</td>\n",
       "      <td>...</td>\n",
       "    </tr>\n",
       "    <tr>\n",
       "      <th>995</th>\n",
       "      <td>1.281625</td>\n",
       "      <td>-0.062024</td>\n",
       "      <td>-0.109231</td>\n",
       "      <td>1.206058</td>\n",
       "    </tr>\n",
       "    <tr>\n",
       "      <th>996</th>\n",
       "      <td>-3.047558</td>\n",
       "      <td>-1.121675</td>\n",
       "      <td>0.678439</td>\n",
       "      <td>-3.229262</td>\n",
       "    </tr>\n",
       "    <tr>\n",
       "      <th>997</th>\n",
       "      <td>-0.028757</td>\n",
       "      <td>-0.191722</td>\n",
       "      <td>1.191790</td>\n",
       "      <td>3.160897</td>\n",
       "    </tr>\n",
       "    <tr>\n",
       "      <th>998</th>\n",
       "      <td>0.415266</td>\n",
       "      <td>0.373086</td>\n",
       "      <td>1.172636</td>\n",
       "      <td>4.033302</td>\n",
       "    </tr>\n",
       "    <tr>\n",
       "      <th>999</th>\n",
       "      <td>3.163783</td>\n",
       "      <td>1.296699</td>\n",
       "      <td>1.402481</td>\n",
       "      <td>9.941968</td>\n",
       "    </tr>\n",
       "  </tbody>\n",
       "</table>\n",
       "<p>1000 rows × 4 columns</p>\n",
       "</div>"
      ],
      "text/plain": [
       "           X1        X2        X3          Y\n",
       "0   -0.440646 -0.390227  0.156718  -0.877671\n",
       "1   -3.810099 -1.304665 -1.105117 -10.130388\n",
       "2   -1.425451 -0.340049  1.115908   0.284068\n",
       "3   -1.325750  0.161906 -0.254670  -1.994344\n",
       "4    3.120263  1.487343 -1.164839   2.030030\n",
       "..        ...       ...       ...        ...\n",
       "995  1.281625 -0.062024 -0.109231   1.206058\n",
       "996 -3.047558 -1.121675  0.678439  -3.229262\n",
       "997 -0.028757 -0.191722  1.191790   3.160897\n",
       "998  0.415266  0.373086  1.172636   4.033302\n",
       "999  3.163783  1.296699  1.402481   9.941968\n",
       "\n",
       "[1000 rows x 4 columns]"
      ]
     },
     "execution_count": 3,
     "metadata": {},
     "output_type": "execute_result"
    }
   ],
   "source": [
    "h11"
   ]
  },
  {
   "cell_type": "markdown",
   "id": "d078c743",
   "metadata": {},
   "source": [
    "Question 1\n",
    "Which of the following is closest to the coefficient of X1? "
   ]
  },
  {
   "cell_type": "code",
   "execution_count": 4,
   "id": "b85263e1",
   "metadata": {},
   "outputs": [
    {
     "data": {
      "text/plain": [
       "const    0.002643\n",
       "X1       1.007138\n",
       "X2       1.964569\n",
       "X3       2.975489\n",
       "dtype: float64"
      ]
     },
     "execution_count": 4,
     "metadata": {},
     "output_type": "execute_result"
    }
   ],
   "source": [
    "results = sm.OLS(h11.Y, sm.add_constant(h11[[\"X1\", \"X2\", \"X3\"]])).fit()\n",
    "results.params"
   ]
  },
  {
   "cell_type": "markdown",
   "id": "49fd96ec",
   "metadata": {},
   "source": [
    "Question 2\n",
    "Which Xi has the greatest difference between the amount Y increases for each 1 unit of Xi (fixing the other Xi’s), as opposed to the amount that Y increases for each 1 unit of Xi in the dataset, on average (not fixing the other Xis)? Hint: for the former, you'll have to regress Y on Xi alone, while for the latter, you'll have to regress Y on all three Xis. "
   ]
  },
  {
   "cell_type": "code",
   "execution_count": 5,
   "id": "5e7938aa",
   "metadata": {},
   "outputs": [
    {
     "data": {
      "text/plain": [
       "const    0.194478\n",
       "X1       1.841761\n",
       "dtype: float64"
      ]
     },
     "execution_count": 5,
     "metadata": {},
     "output_type": "execute_result"
    }
   ],
   "source": [
    "results = sm.OLS(h11.Y, sm.add_constant(h11[[\"X1\"]])).fit()\n",
    "results.params"
   ]
  },
  {
   "cell_type": "code",
   "execution_count": 6,
   "id": "1d8aabe7",
   "metadata": {},
   "outputs": [
    {
     "data": {
      "text/plain": [
       "const    0.155867\n",
       "X2       4.083613\n",
       "dtype: float64"
      ]
     },
     "execution_count": 6,
     "metadata": {},
     "output_type": "execute_result"
    }
   ],
   "source": [
    "results = sm.OLS(h11.Y, sm.add_constant(h11[[\"X2\"]])).fit()\n",
    "results.params"
   ]
  },
  {
   "cell_type": "code",
   "execution_count": 7,
   "id": "d4f07dd8",
   "metadata": {},
   "outputs": [
    {
     "data": {
      "text/plain": [
       "const    0.100479\n",
       "X3       3.097041\n",
       "dtype: float64"
      ]
     },
     "execution_count": 7,
     "metadata": {},
     "output_type": "execute_result"
    }
   ],
   "source": [
    "results = sm.OLS(h11.Y, sm.add_constant(h11[[\"X3\"]])).fit()\n",
    "results.params"
   ]
  },
  {
   "cell_type": "code",
   "execution_count": 8,
   "id": "7da45cca",
   "metadata": {},
   "outputs": [
    {
     "data": {
      "text/plain": [
       "const    0.002643\n",
       "X1       1.007138\n",
       "X2       1.964569\n",
       "X3       2.975489\n",
       "dtype: float64"
      ]
     },
     "execution_count": 8,
     "metadata": {},
     "output_type": "execute_result"
    }
   ],
   "source": [
    "results = sm.OLS(h11.Y, sm.add_constant(h11[[\"X1\", \"X2\", \"X3\"]])).fit()\n",
    "results.params"
   ]
  },
  {
   "cell_type": "markdown",
   "id": "0ca8472c",
   "metadata": {},
   "source": [
    "Question 3\n",
    "When regressing Y on all Xis together, which coefficient is most significant, considering the t-statistic as a measure of significance? "
   ]
  },
  {
   "cell_type": "code",
   "execution_count": 9,
   "id": "7b6e938a",
   "metadata": {},
   "outputs": [
    {
     "data": {
      "text/plain": [
       "const      0.166181\n",
       "X1        60.984011\n",
       "X2        53.283212\n",
       "X3       196.645240\n",
       "dtype: float64"
      ]
     },
     "execution_count": 9,
     "metadata": {},
     "output_type": "execute_result"
    }
   ],
   "source": [
    "results.tvalues"
   ]
  },
  {
   "cell_type": "markdown",
   "id": "e61915a7",
   "metadata": {},
   "source": [
    "For Question 4 and 5:\n",
    "\n",
    "\n",
    "Use NearestNeighbors to match data based on variables Z, given the file homework_1.2.csv.\n",
    "Pick the best match in X = 0 corresponding to each X = 1. Use the Z values to perform the match: a good match with X = 1 is the item whose Z value is closest to the given sample's Z value with X = 0. I suggest using sklearn's NearestNeighbors to do this, but there are many ways to do it.  "
   ]
  },
  {
   "cell_type": "code",
   "execution_count": 10,
   "id": "6ce1d56d",
   "metadata": {},
   "outputs": [
    {
     "data": {
      "text/html": [
       "<div>\n",
       "<style scoped>\n",
       "    .dataframe tbody tr th:only-of-type {\n",
       "        vertical-align: middle;\n",
       "    }\n",
       "\n",
       "    .dataframe tbody tr th {\n",
       "        vertical-align: top;\n",
       "    }\n",
       "\n",
       "    .dataframe thead th {\n",
       "        text-align: right;\n",
       "    }\n",
       "</style>\n",
       "<table border=\"1\" class=\"dataframe\">\n",
       "  <thead>\n",
       "    <tr style=\"text-align: right;\">\n",
       "      <th></th>\n",
       "      <th>X</th>\n",
       "      <th>Y</th>\n",
       "      <th>Z</th>\n",
       "    </tr>\n",
       "  </thead>\n",
       "  <tbody>\n",
       "    <tr>\n",
       "      <th>0</th>\n",
       "      <td>0</td>\n",
       "      <td>0.548814</td>\n",
       "      <td>0.548814</td>\n",
       "    </tr>\n",
       "    <tr>\n",
       "      <th>1</th>\n",
       "      <td>1</td>\n",
       "      <td>1.215189</td>\n",
       "      <td>0.715189</td>\n",
       "    </tr>\n",
       "    <tr>\n",
       "      <th>2</th>\n",
       "      <td>0</td>\n",
       "      <td>0.602763</td>\n",
       "      <td>0.602763</td>\n",
       "    </tr>\n",
       "    <tr>\n",
       "      <th>3</th>\n",
       "      <td>0</td>\n",
       "      <td>0.544883</td>\n",
       "      <td>0.544883</td>\n",
       "    </tr>\n",
       "    <tr>\n",
       "      <th>4</th>\n",
       "      <td>0</td>\n",
       "      <td>0.423655</td>\n",
       "      <td>0.423655</td>\n",
       "    </tr>\n",
       "    <tr>\n",
       "      <th>...</th>\n",
       "      <td>...</td>\n",
       "      <td>...</td>\n",
       "      <td>...</td>\n",
       "    </tr>\n",
       "    <tr>\n",
       "      <th>95</th>\n",
       "      <td>0</td>\n",
       "      <td>0.183191</td>\n",
       "      <td>0.183191</td>\n",
       "    </tr>\n",
       "    <tr>\n",
       "      <th>96</th>\n",
       "      <td>1</td>\n",
       "      <td>1.086513</td>\n",
       "      <td>0.586513</td>\n",
       "    </tr>\n",
       "    <tr>\n",
       "      <th>97</th>\n",
       "      <td>0</td>\n",
       "      <td>0.020108</td>\n",
       "      <td>0.020108</td>\n",
       "    </tr>\n",
       "    <tr>\n",
       "      <th>98</th>\n",
       "      <td>1</td>\n",
       "      <td>1.328940</td>\n",
       "      <td>0.828940</td>\n",
       "    </tr>\n",
       "    <tr>\n",
       "      <th>99</th>\n",
       "      <td>0</td>\n",
       "      <td>0.004695</td>\n",
       "      <td>0.004695</td>\n",
       "    </tr>\n",
       "  </tbody>\n",
       "</table>\n",
       "<p>100 rows × 3 columns</p>\n",
       "</div>"
      ],
      "text/plain": [
       "    X         Y         Z\n",
       "0   0  0.548814  0.548814\n",
       "1   1  1.215189  0.715189\n",
       "2   0  0.602763  0.602763\n",
       "3   0  0.544883  0.544883\n",
       "4   0  0.423655  0.423655\n",
       ".. ..       ...       ...\n",
       "95  0  0.183191  0.183191\n",
       "96  1  1.086513  0.586513\n",
       "97  0  0.020108  0.020108\n",
       "98  1  1.328940  0.828940\n",
       "99  0  0.004695  0.004695\n",
       "\n",
       "[100 rows x 3 columns]"
      ]
     },
     "execution_count": 10,
     "metadata": {},
     "output_type": "execute_result"
    }
   ],
   "source": [
    "h12"
   ]
  },
  {
   "cell_type": "markdown",
   "id": "30dd96b2",
   "metadata": {},
   "source": [
    "Question 4\n",
    "What is the distance of the farthest match in this set?"
   ]
  },
  {
   "cell_type": "code",
   "execution_count": 11,
   "id": "1a9b8fb6",
   "metadata": {},
   "outputs": [],
   "source": [
    "treated = h12[h12[\"X\"] == 1]\n",
    "control = h12[h12[\"X\"] == 0]\n",
    "model = NearestNeighbors(n_neighbors = 1)\n",
    "result = model.fit(control[[\"Z\"]])"
   ]
  },
  {
   "cell_type": "code",
   "execution_count": 12,
   "id": "f71e6ce9",
   "metadata": {},
   "outputs": [],
   "source": [
    "prediction = result.kneighbors(treated[[\"Z\"]])"
   ]
  },
  {
   "cell_type": "code",
   "execution_count": 17,
   "id": "caf9d2e3",
   "metadata": {},
   "outputs": [
    {
     "data": {
      "text/plain": [
       "np.float64(0.2102170871093757)"
      ]
     },
     "execution_count": 17,
     "metadata": {},
     "output_type": "execute_result"
    }
   ],
   "source": [
    "prediction[0].max()"
   ]
  },
  {
   "cell_type": "markdown",
   "id": "77f1a95b",
   "metadata": {},
   "source": [
    "Question 5\n",
    "What is the effect? (The difference between the average Y value for X = 0 values vs. the average Y value for X = 1, where the X = 0 sample has the best match for each X = 1 value). So we use the matched sample of X = 0 and the full sample of X = 1."
   ]
  },
  {
   "cell_type": "code",
   "execution_count": 18,
   "id": "87b9aa89",
   "metadata": {},
   "outputs": [
    {
     "data": {
      "text/plain": [
       "np.float64(0.5433600651913855)"
      ]
     },
     "execution_count": 18,
     "metadata": {},
     "output_type": "execute_result"
    }
   ],
   "source": [
    "matched_controls = control.iloc[prediction[1].flatten()]\n",
    "treated.Y.mean() - matched_controls.Y.mean()"
   ]
  },
  {
   "cell_type": "markdown",
   "id": "95202f92",
   "metadata": {},
   "source": [
    "For questions 6 and 7:\n",
    "\n",
    "Use NearestNeighbors to match data based on variables Z, given the file homework_1.2.csv. \n",
    "Try approach B: Pick all of the matches in X = 0 that are within a distance 0.2 of each X = 1. Duplicates are okay, in case a given sample with X = 0 is a good match for multiple items with X = 1. "
   ]
  },
  {
   "cell_type": "markdown",
   "id": "10c25f87",
   "metadata": {},
   "source": [
    "Question 6\n",
    "How many duplicates do you end up with? (Count all but the first duplicate in each group. One way to do this is to use radius_neighbors.)"
   ]
  },
  {
   "cell_type": "code",
   "execution_count": 19,
   "id": "5b72e6a9",
   "metadata": {},
   "outputs": [
    {
     "data": {
      "text/plain": [
       "array([array([ 0,  1,  2,  4,  5,  9, 12, 17, 20, 21, 25, 31, 35, 41, 43, 45, 48]),\n",
       "       array([ 0,  1,  2,  4,  5,  9, 12, 15, 17, 20, 21, 25, 27, 31, 34, 35, 41,\n",
       "              43, 45, 48])                                                       ,\n",
       "       array([ 0,  1,  2,  3,  4,  5, 12, 13, 14, 15, 17, 18, 26, 27, 28, 34, 37,\n",
       "              39, 41, 42, 43, 45, 46])                                           ,\n",
       "       array([ 9, 35, 48]), array([9]),\n",
       "       array([ 0,  2,  3,  4,  5, 12, 13, 14, 15, 18, 22, 24, 26, 27, 28, 34, 37,\n",
       "              39, 41, 42, 43, 45, 46])                                           ,\n",
       "       array([ 1,  9, 17, 20, 21, 25, 31, 35, 48]), array([ 9, 35]),\n",
       "       array([ 9, 20, 21, 25, 31, 35, 48]), array([ 9, 21, 35, 48]),\n",
       "       array([], dtype=int64),\n",
       "       array([ 1,  9, 17, 20, 21, 25, 31, 35, 48]),\n",
       "       array([ 0,  1,  2,  3,  4,  5, 12, 13, 14, 15, 17, 18, 25, 27, 31, 34, 37,\n",
       "              39, 41, 42, 43, 45, 46])                                           ,\n",
       "       array([ 1,  9, 17, 20, 21, 25, 31, 35, 48]),\n",
       "       array([ 0,  1,  2,  4,  5,  9, 12, 15, 17, 20, 21, 25, 27, 31, 34, 35, 41,\n",
       "              43, 45, 48])                                                       ,\n",
       "       array([9]), array([ 1,  9, 17, 20, 21, 25, 31, 35, 45, 48]),\n",
       "       array([ 0,  1,  2,  3,  4,  5, 12, 13, 15, 17, 18, 20, 21, 25, 27, 31, 34,\n",
       "              35, 41, 43, 45, 48])                                               ,\n",
       "       array([ 0,  1,  2,  3,  4,  5,  9, 12, 15, 17, 18, 20, 21, 25, 27, 31, 34,\n",
       "              35, 41, 43, 45, 48])                                               ,\n",
       "       array([ 0,  1,  2,  3,  4,  5,  9, 12, 13, 15, 17, 18, 20, 21, 25, 27, 31,\n",
       "              34, 35, 41, 43, 45, 48])                                           ,\n",
       "       array([9]),\n",
       "       array([ 0,  1,  2,  4,  5,  9, 12, 17, 20, 21, 25, 31, 35, 41, 43, 45, 48]),\n",
       "       array([ 0,  2,  3,  4, 12, 13, 14, 15, 18, 22, 24, 26, 27, 28, 34, 37, 39,\n",
       "              42, 43, 46, 49])                                                   ,\n",
       "       array([ 0,  1,  2,  4,  5,  9, 12, 17, 20, 21, 25, 31, 35, 41, 43, 45, 48]),\n",
       "       array([ 6,  7,  8, 10, 11, 14, 16, 19, 22, 23, 24, 26, 28, 29, 30, 32, 33,\n",
       "              36, 37, 38, 39, 40, 42, 44, 46, 47, 49, 50, 51])                   ,\n",
       "       array([ 3, 10, 11, 13, 14, 15, 18, 22, 24, 26, 27, 28, 29, 34, 37, 38, 39,\n",
       "              42, 46, 47, 49])                                                   ,\n",
       "       array([ 0,  2,  3,  4, 12, 13, 14, 15, 18, 22, 24, 26, 27, 28, 34, 37, 39,\n",
       "              42, 43, 46, 49])                                                   ,\n",
       "       array([ 0,  1,  2,  3,  4,  5, 12, 13, 15, 17, 18, 20, 21, 25, 27, 31, 34,\n",
       "              35, 41, 43, 45, 48])                                               ,\n",
       "       array([ 0,  1,  2,  3,  4,  5, 12, 13, 14, 15, 17, 18, 26, 27, 28, 34, 37,\n",
       "              39, 41, 42, 43, 45, 46])                                           ,\n",
       "       array([], dtype=int64),\n",
       "       array([ 6,  7,  8, 10, 11, 14, 16, 19, 22, 23, 24, 26, 28, 29, 30, 32, 33,\n",
       "              36, 37, 38, 39, 40, 42, 44, 46, 47, 49, 50, 51])                   ,\n",
       "       array([ 6,  7,  8, 10, 11, 14, 16, 19, 22, 23, 24, 26, 28, 29, 30, 32, 33,\n",
       "              36, 37, 38, 39, 40, 42, 44, 46, 47, 49, 50, 51])                   ,\n",
       "       array([ 6,  7,  8, 10, 11, 14, 16, 19, 22, 23, 24, 26, 28, 29, 30, 32, 33,\n",
       "              36, 37, 38, 39, 40, 42, 44, 46, 47, 49, 50, 51])                   ,\n",
       "       array([ 0,  2,  3,  4,  5, 12, 13, 14, 15, 18, 22, 24, 26, 27, 28, 34, 37,\n",
       "              39, 41, 42, 43, 46, 49])                                           ,\n",
       "       array([ 9, 20, 21, 25, 31, 35, 48]),\n",
       "       array([ 9, 20, 21, 25, 31, 35, 48]), array([9]), array([9]),\n",
       "       array([ 0,  1,  2,  3,  4,  5,  9, 12, 13, 15, 17, 18, 20, 21, 25, 27, 31,\n",
       "              34, 35, 41, 43, 45, 48])                                           ,\n",
       "       array([ 6,  7,  8, 10, 11, 14, 16, 19, 22, 23, 24, 26, 28, 29, 30, 32, 33,\n",
       "              36, 37, 38, 39, 40, 42, 44, 46, 47, 49, 50, 51])                   ,\n",
       "       array([ 3, 10, 11, 13, 14, 15, 18, 22, 23, 24, 26, 27, 28, 29, 30, 32, 34,\n",
       "              37, 38, 39, 42, 46, 47, 49])                                       ,\n",
       "       array([ 0,  1,  2,  3,  4,  5, 12, 13, 14, 15, 18, 26, 27, 28, 34, 37, 39,\n",
       "              41, 42, 43, 45, 46])                                               ,\n",
       "       array([ 0,  1,  2,  4,  5,  9, 12, 17, 20, 21, 25, 31, 35, 41, 43, 45, 48]),\n",
       "       array([ 9, 35]),\n",
       "       array([ 0,  1,  2,  4,  5,  9, 12, 17, 20, 21, 25, 31, 34, 35, 41, 43, 45,\n",
       "              48])                                                               ,\n",
       "       array([ 3, 10, 11, 13, 14, 15, 18, 22, 23, 24, 26, 27, 28, 29, 30, 32, 33,\n",
       "              34, 37, 38, 39, 42, 44, 46, 47, 49])                               ,\n",
       "       array([ 0,  1,  2,  3,  4,  5,  9, 12, 13, 15, 17, 18, 20, 21, 25, 27, 31,\n",
       "              34, 35, 41, 43, 45, 48])                                           ,\n",
       "       array([ 9, 20, 21, 25, 31, 35, 48])], dtype=object)"
      ]
     },
     "execution_count": 19,
     "metadata": {},
     "output_type": "execute_result"
    }
   ],
   "source": [
    "treated = h12[h12[\"X\"] == 1]\n",
    "control = h12[h12[\"X\"] == 0]\n",
    "model = NearestNeighbors(n_neighbors = 1, radius = 0.2)\n",
    "result = model.fit(control[[\"Z\"]])\n",
    "prediction = result.radius_neighbors(treated[[\"Z\"]])\n",
    "prediction[1]"
   ]
  },
  {
   "cell_type": "code",
   "execution_count": 20,
   "id": "4ddccc68",
   "metadata": {},
   "outputs": [
    {
     "data": {
      "text/plain": [
       "np.int64(685)"
      ]
     },
     "execution_count": 20,
     "metadata": {},
     "output_type": "execute_result"
    }
   ],
   "source": [
    "(pd.Series([y for x in prediction[1] for y in x]).value_counts() - 1).sum()"
   ]
  },
  {
   "cell_type": "markdown",
   "id": "76057467",
   "metadata": {},
   "source": [
    "Question 7\n",
    "What is the effect? (Note: to compute the effect, you should take the mean of the Y values in each neighbor group, then average the Y for each group.)"
   ]
  },
  {
   "cell_type": "code",
   "execution_count": 28,
   "id": "84c7f5a7",
   "metadata": {},
   "outputs": [
    {
     "name": "stdout",
     "output_type": "stream",
     "text": [
      "Effect (radius 0.2 on Z): 0.5688516533881482\n",
      "Treated used: 46\n",
      "Treated with no neighbors within 0.2: 2\n"
     ]
    }
   ],
   "source": [
    "distances, indices = prediction\n",
    "\n",
    "# Compute Y_treated - mean(Y_control_neighbors) for each treated row\n",
    "diffs = []\n",
    "used = 0\n",
    "skipped = 0\n",
    "y_treated = treated[\"Y\"].to_numpy()\n",
    "\n",
    "for i, idx_list in enumerate(indices):\n",
    "    if len(idx_list) == 0:\n",
    "        skipped += 1\n",
    "        continue\n",
    "    y_ctrl_mean = control[\"Y\"].iloc[idx_list].mean()\n",
    "    diffs.append(y_treated[i] - y_ctrl_mean)\n",
    "    used += 1\n",
    "\n",
    "effect = float(np.mean(diffs)) if len(diffs) > 0 else float(\"nan\")\n",
    "\n",
    "print(\"Effect (radius 0.2 on Z):\", effect)\n",
    "print(\"Treated used:\", used)\n",
    "print(\"Treated with no neighbors within 0.2:\", skipped)\n"
   ]
  }
 ],
 "metadata": {
  "kernelspec": {
   "display_name": "default",
   "language": "python",
   "name": "python3"
  },
  "language_info": {
   "codemirror_mode": {
    "name": "ipython",
    "version": 3
   },
   "file_extension": ".py",
   "mimetype": "text/x-python",
   "name": "python",
   "nbconvert_exporter": "python",
   "pygments_lexer": "ipython3",
   "version": "3.13.5"
  }
 },
 "nbformat": 4,
 "nbformat_minor": 5
}
